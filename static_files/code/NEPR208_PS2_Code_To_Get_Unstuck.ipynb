{
 "cells": [
  {
   "cell_type": "code",
   "execution_count": null,
   "id": "cb09a4bb",
   "metadata": {},
   "outputs": [],
   "source": [
    "import numpy as np\n",
    "import h5py # You may need to install this in your python environment\n",
    "import matplotlib.pyplot as plt"
   ]
  },
  {
   "cell_type": "code",
   "execution_count": null,
   "id": "4a70cfca",
   "metadata": {},
   "outputs": [],
   "source": [
    "# First, download the rgc_data from the website and save it in the same folder as this notebook\n",
    "# Then run import the data\n",
    "fpath = 'rgc_data.h5'\n",
    "df = h5py.File(fpath, 'r')"
   ]
  },
  {
   "cell_type": "code",
   "execution_count": null,
   "id": "bae96b93",
   "metadata": {},
   "outputs": [],
   "source": [
    "# Let's take a look at what data is in the file\n",
    "list(df.keys())"
   ]
  },
  {
   "cell_type": "code",
   "execution_count": null,
   "id": "0b2a3eef",
   "metadata": {},
   "outputs": [],
   "source": [
    "# Save the data to numpy arrays\n",
    "spike_times = np.array(df['spike_times'])\n",
    "stimulus = np.array(df['stimulus'])\n",
    "time = np.array(df['time'])"
   ]
  },
  {
   "cell_type": "code",
   "execution_count": null,
   "id": "a87d090e",
   "metadata": {},
   "outputs": [],
   "source": [
    "dt = 0.01\n",
    "\n",
    "# Initialize the STE\n",
    "# compute the dimensions of the filter (spatial and temporal)\n",
    "spatial_dim = stimulus.shape[1] # the number of spatial dimensions in the stimulus\n",
    "filter_length = 40 # the number of temporal dimensions in the stimulus"
   ]
  },
  {
   "cell_type": "code",
   "execution_count": null,
   "id": "3120bd7f",
   "metadata": {},
   "outputs": [],
   "source": [
    "# cut out the first few spikes that occur before the length of the filter (in seconds) has elapsed\n",
    "spike_times = spike_times[np.where(spike_times > filter_length*dt)[0]]"
   ]
  },
  {
   "cell_type": "code",
   "execution_count": null,
   "id": "ae8cee07",
   "metadata": {},
   "outputs": [],
   "source": [
    "# store the indices of the time array corresponding to each spike\n",
    "# (you'll use this when computing histograms and the nonlinearity of the LN model)\n",
    "spike_indices = np.zeros(len(spike_times))\n",
    "time_indices_of_spikes = np.zeros(len(spike_times))\n",
    "\n",
    "# Q1.2\n",
    "STES = np.zeros((len(spike_times), filter_length*spatial_dim))\n",
    "\n",
    "# Q1.3 Collect stimuli that are part of the STE\n",
    "# select out the stimulus preceeding the spike, and store it in the `ste` array\n",
    "for i, st in enumerate(spike_times):\n",
    "    \n",
    "    # Your code here.\n",
    "    # A possible answer. Please comment the code to explain what is happening.\n",
    "    time_diffs = np.abs(time-st)\n",
    "    time_index = np.argmin(time_diffs)\n",
    "    time_indices_of_spikes[i] = time_index\n",
    "    \n",
    "    spike_indices[i] = time_index\n",
    "    \n",
    "    starting_stim_ind = time_index-filter_length\n",
    "    current_ste = stimulus[starting_stim_ind:time_index, :]\n",
    "    reshaped_ste = np.reshape(current_ste, (1, 1200))\n",
    "    \n",
    "    STES[i] = reshaped_ste"
   ]
  },
  {
   "cell_type": "code",
   "execution_count": null,
   "id": "10bec291",
   "metadata": {},
   "outputs": [],
   "source": [
    "# Q1.4\n",
    "\n",
    "# Compute the spike-triggered average (STA)\n",
    "# by averaging over the number of spikes in the STE\n",
    "\n",
    "# Take the mean of the STE data in the correct axis\n",
    "STA_vector = np.mean(STES, 0)\n",
    "\n",
    "# Normalize the vector such that is has a unit norm\n",
    "STA_vector_normalized = STA_vector/np.linalg.norm(STA_vector)\n",
    "\n",
    "# Reshape the data for plotting\n",
    "STA = np.reshape(STA_vector_normalized, (filter_length, spatial_dim))\n",
    "\n",
    "# For plotting: this colormap works well, but you can use whichever you want\n",
    "colormap = 'RdBu_r'\n",
    "\n",
    "plt.figure()\n",
    "plt.imshow(np.flip(STA, 0), origin='lower', cmap=colormap)\n",
    "\n",
    "# Depending on how you plotted the data, you may have to switch the x and y labels\n",
    "plt.ylabel(\"Time before spike, tens of milliseconds\")\n",
    "plt.xlabel(\"Pixel of stimulus space\")\n",
    "\n",
    "plt.show()"
   ]
  },
  {
   "cell_type": "code",
   "execution_count": null,
   "id": "75f09a7a",
   "metadata": {},
   "outputs": [],
   "source": [
    "# Spike-triggered covariance\n",
    "ste_cov = np.cov(STES, rowvar = False)\n",
    "ste_cov.shape\n",
    "\n",
    "# Eigenvectors\n",
    "eigenvals, eigenvecs = np.linalg.eig(ste_cov)"
   ]
  },
  {
   "cell_type": "code",
   "execution_count": null,
   "id": "15e81c98",
   "metadata": {},
   "outputs": [],
   "source": [
    "# Your code here. An example with the first eigenvector is plotted below.\n",
    "# Copy and paste this code and change the eig_index to plot other eigenvectors\n",
    "# Add axes labels\n",
    "eig_index = 0\n",
    "eigen_stc_to_plot = np.reshape(eigenvecs[:, eig_index], (filter_length, spatial_dim))\n",
    "\n",
    "plt.figure()\n",
    "plt.imshow(np.flip(eigen_stc_to_plot), origin='lower', cmap = colormap)\n",
    "\n",
    "#plt.xlabel(/*Your code here*/)\n",
    "#plt.ylabel(/*Your code here*/)\n",
    "plt.title(\"First Eigenvector of Spike-triggered Covariance\")\n",
    "plt.show()"
   ]
  },
  {
   "cell_type": "code",
   "execution_count": null,
   "id": "ee30920f",
   "metadata": {},
   "outputs": [],
   "source": [
    "# Your code here for E-H"
   ]
  },
  {
   "cell_type": "code",
   "execution_count": null,
   "id": "4c9d4738",
   "metadata": {},
   "outputs": [],
   "source": [
    "plt.figure()\n",
    "plt.plot(eigenvals, '-', markersize = 3, color = \"xkcd:green\")\n",
    "\n",
    "#plt.xlabel(/*Your code here*/)\n",
    "#plt.ylabel(/*Your code here*/)\n",
    "plt.title(\"Eigenspectrum of covariance matrix\")\n",
    "\n",
    "plt.show()"
   ]
  },
  {
   "cell_type": "code",
   "execution_count": null,
   "id": "e7ba58b1",
   "metadata": {},
   "outputs": [],
   "source": [
    "# Linear non-linear analysis\n",
    "# This is functioning example code, look through and adjust as necessary"
   ]
  },
  {
   "cell_type": "code",
   "execution_count": null,
   "id": "ac48d3e0",
   "metadata": {},
   "outputs": [],
   "source": [
    "def custom_histogram(x, nbins):\n",
    "    \n",
    "    edges = np.linspace(min(x), max(x), nbins)\n",
    "    n, edges = np.histogram(x, edges)\n",
    "    inds = np.digitize(x, edges)\n",
    "    \n",
    "    return n, edges, inds"
   ]
  },
  {
   "cell_type": "code",
   "execution_count": null,
   "id": "8fa60fbc",
   "metadata": {},
   "outputs": [],
   "source": [
    "# LN modeling\n",
    "u = np.zeros((len(time)))\n",
    "\n",
    "for t in range(filter_length, len(time)):\n",
    "    \n",
    "    stimulus_slice = stimulus[t-filter_length:t, :]\n",
    "    stim_slice_flat = np.reshape(stimulus_slice, (1, filter_length*spatial_dim))\n",
    "    u[t] = np.dot(stim_slice_flat, STA_vector_normalized)"
   ]
  },
  {
   "cell_type": "code",
   "execution_count": null,
   "id": "c0cdd20d",
   "metadata": {},
   "outputs": [],
   "source": [
    "n, edges, bin_indices = custom_histogram(u, 50)\n",
    "spike_counts = np.histogram(spike_times, np.append(time, [time[-1]+dt]))\n",
    "ub = np.unique(bin_indices)\n",
    "\n",
    "nonlinearity = np.zeros((len(ub)))\n",
    "bin_centers = edges[0:-1] + 0.5*np.diff(edges)\n",
    "\n",
    "for bin_index in range(len(ub)):\n",
    "        \n",
    "    # find the times where u is in bin_index\n",
    "    inds_u_in_bin = np.where(bin_indices == ub[bin_index])[0]\n",
    "    mean_spike_count = np.mean(spike_counts[0][inds_u_in_bin])\n",
    "    \n",
    "    nonlinearity[bin_index] = mean_spike_count"
   ]
  },
  {
   "cell_type": "code",
   "execution_count": null,
   "id": "315f0e12",
   "metadata": {},
   "outputs": [],
   "source": [
    "plt.figure(figsize = (5, 5))\n",
    "plt.plot(bin_centers, nonlinearity, '-o', markersize = 3, color = 'xkcd:medium pink')\n",
    "\n",
    "#plt.xlabel(/*Your code here*/)\n",
    "#plt.ylabel(/*Your code here*/)\n",
    "#plt.title(/*Your code here*/)\n",
    "plt.show()"
   ]
  },
  {
   "cell_type": "code",
   "execution_count": null,
   "id": "57f41ac7",
   "metadata": {},
   "outputs": [],
   "source": []
  },
  {
   "cell_type": "code",
   "execution_count": null,
   "id": "3f263125",
   "metadata": {},
   "outputs": [],
   "source": []
  }
 ],
 "metadata": {
  "kernelspec": {
   "display_name": "Python 3",
   "language": "python",
   "name": "python3"
  },
  "language_info": {
   "codemirror_mode": {
    "name": "ipython",
    "version": 3
   },
   "file_extension": ".py",
   "mimetype": "text/x-python",
   "name": "python",
   "nbconvert_exporter": "python",
   "pygments_lexer": "ipython3",
   "version": "3.7.1"
  }
 },
 "nbformat": 4,
 "nbformat_minor": 5
}
